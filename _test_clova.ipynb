{
  "nbformat": 4,
  "nbformat_minor": 0,
  "metadata": {
    "colab": {
      "provenance": [],
      "authorship_tag": "ABX9TyMBoFe2nFegAU+QjAoJgNIs",
      "include_colab_link": true
    },
    "kernelspec": {
      "name": "python3",
      "display_name": "Python 3"
    },
    "language_info": {
      "name": "python"
    }
  },
  "cells": [
    {
      "cell_type": "markdown",
      "metadata": {
        "id": "view-in-github",
        "colab_type": "text"
      },
      "source": [
        "<a href=\"https://colab.research.google.com/github/secutron/ACTOR/blob/master/_test_clova.ipynb\" target=\"_parent\"><img src=\"https://colab.research.google.com/assets/colab-badge.svg\" alt=\"Open In Colab\"/></a>"
      ]
    },
    {
      "cell_type": "code",
      "execution_count": 1,
      "metadata": {
        "id": "QfIRhJ6zSdML"
      },
      "outputs": [],
      "source": [
        "import hashlib\n",
        "import hmac\n",
        "import base64\n",
        "import time\n",
        "import requests\n",
        "import json\n",
        "import os\n",
        "import sys\n",
        "import urllib.request\n",
        "import shutil"
      ]
    },
    {
      "cell_type": "code",
      "source": [
        "class ChatbotMessageSender:\n",
        "\n",
        "    # chatbot api gateway url\n",
        "    ep_path = 'https://3svep1xfda.apigw.ntruss.com/custom/v1/6887/558fe5674f162b84dd4bd83029e086ea1d96f9457826544f95b49924aa453fba'\n",
        "    # chatbot custom secret key\n",
        "    secret_key = 'VGJiQ2NTUkF3SWJUeUZ3QXlYdW9nZ0dUTVdOY2Vuc1c='\n",
        "\n",
        "    def req_message_send(self, text):\n",
        "\n",
        "        timestamp = self.get_timestamp()\n",
        "        request_body = {\n",
        "            'version': 'v2',\n",
        "            'userId': 'U47b00b58c90f8e47428af8b7bddcda3d1111111',\n",
        "            'timestamp': timestamp,\n",
        "            'bubbles': [\n",
        "                {\n",
        "                    'type': 'text',\n",
        "                    'data': {\n",
        "                        'description': text\n",
        "                    }\n",
        "                }\n",
        "            ],\n",
        "            'event': 'send'\n",
        "        }\n",
        "\n",
        "        ## Request body\n",
        "        encode_request_body = json.dumps(request_body).encode('UTF-8')\n",
        "\n",
        "        ## make signature\n",
        "        signature = self.make_signature(self.secret_key, encode_request_body)\n",
        "\n",
        "        ## headers\n",
        "        custom_headers = {\n",
        "            'Content-Type': 'application/json;UTF-8',\n",
        "            'X-NCP-CHATBOT_SIGNATURE': signature\n",
        "        }\n",
        "\n",
        "        # print(\"## Timestamp : \", timestamp)\n",
        "        # print(\"## Signature : \", signature)\n",
        "        # print(\"## headers \", custom_headers)\n",
        "        # print(\"## Request Body : \", encode_request_body)\n",
        "\n",
        "        ## POST Request\n",
        "        response = requests.post(headers=custom_headers, url=self.ep_path, data=encode_request_body)\n",
        "\n",
        "        return response\n",
        "\n",
        "    @staticmethod\n",
        "    def get_timestamp():\n",
        "        timestamp = int(time.time() * 1000)\n",
        "        return timestamp\n",
        "\n",
        "    @staticmethod\n",
        "    def make_signature(secret_key, request_body):\n",
        "\n",
        "        secret_key_bytes = bytes(secret_key, 'UTF-8')\n",
        "\n",
        "        signing_key = base64.b64encode(hmac.new(secret_key_bytes, request_body, digestmod=hashlib.sha256).digest())\n",
        "\n",
        "        return signing_key"
      ],
      "metadata": {
        "id": "voNgfkNYSveK"
      },
      "execution_count": 2,
      "outputs": []
    },
    {
      "cell_type": "code",
      "source": [
        "#챗봇 함수\n",
        "def APIchat(text):\n",
        "  if __name__ == '__main__':\n",
        "\n",
        "      res = ChatbotMessageSender().req_message_send(text)\n",
        "      if(res.status_code == 200):\n",
        "          \n",
        "          return(res.json()['bubbles'][0]['data']['description'])\n",
        "          # print(res.read().decode(\"UTF-8\"))"
      ],
      "metadata": {
        "id": "3GxoQCuwSxlC"
      },
      "execution_count": 3,
      "outputs": []
    },
    {
      "cell_type": "markdown",
      "source": [
        "TTS(음성 답변용)"
      ],
      "metadata": {
        "id": "b4bM8K-GS4GS"
      }
    },
    {
      "cell_type": "code",
      "source": [
        "def answer_voice(text):\n",
        "  client_id = \"zyqwh8x83v\"\n",
        "  client_secret = \"gE21EZDEXp8esM8K2JYUMFXllkanun0Jd6UA7OXG\"\n",
        "  encText = urllib.parse.quote(text)\n",
        "  data = \"speaker=nara&volume=0&speed=0&pitch=0&format=mp3&text=\" + encText;\n",
        "  url = \"https://naveropenapi.apigw.ntruss.com/tts-premium/v1/tts\"\n",
        "  request = urllib.request.Request(url)\n",
        "  request.add_header(\"X-NCP-APIGW-API-KEY-ID\",client_id)\n",
        "  request.add_header(\"X-NCP-APIGW-API-KEY\",client_secret)\n",
        "  response = urllib.request.urlopen(request, data=data.encode('utf-8'))\n",
        "  rescode = response.getcode()\n",
        "  if(rescode==200):\n",
        "      response_body = response.read()\n",
        "      with open('answer.mp3', 'wb') as f:\n",
        "          f.write(response_body)\n",
        "      source = 'answer.mp3'\n",
        "      #출력될 음성은 로컬에서 저장된 후 자바스크립트를 통해 재생됨\n",
        "      destination = '/content/sounds/answer.mp3'\n",
        "      shutil.move(source, destination)\n",
        "  else:\n",
        "    errormsg = (\"Error Code:\" + rescode)\n",
        "    return errormsg"
      ],
      "metadata": {
        "id": "lzEcrhTASzLJ"
      },
      "execution_count": 4,
      "outputs": []
    },
    {
      "cell_type": "markdown",
      "source": [
        "STT(음성 입력용)"
      ],
      "metadata": {
        "id": "P0zyGyy5S8_v"
      }
    },
    {
      "cell_type": "code",
      "source": [
        "# 현 코드에서는 미사용\n",
        "def stt():\n",
        "  import sys\n",
        "  import requests\n",
        "  client_id = \"zyqwh8x83v\"\n",
        "  client_secret = \"gE21EZDEXp8esM8K2JYUMFXllkanun0Jd6UA7OXG\"\n",
        "  lang = \"Kor\" # 언어 코드 ( Kor, Jpn, Eng, Chn )\n",
        "  url = \"https://naveropenapi.apigw.ntruss.com/recog/v1/stt?lang=\" + lang\n",
        "  data = open('/content/sounds/answer.mp3', 'rb')\n",
        "  headers = {\n",
        "      \"X-NCP-APIGW-API-KEY-ID\": client_id,\n",
        "      \"X-NCP-APIGW-API-KEY\": client_secret,\n",
        "      \"Content-Type\": \"application/octet-stream\"\n",
        "  }\n",
        "  response = requests.post(url,  data=data, headers=headers)\n",
        "  rescode = response.status_code\n",
        "  if(rescode == 200):\n",
        "      restext = (eval(response.text))['text']\n",
        "      return restext\n",
        "  else:\n",
        "      return(\"Error : \" + response.text)"
      ],
      "metadata": {
        "id": "Zkdq8ufBS6Eq"
      },
      "execution_count": 5,
      "outputs": []
    },
    {
      "cell_type": "code",
      "source": [
        "#네이버 클라우드플랫폼 챗봇 함수(str 형태로 메시지를 입력하면 동작)\n",
        "reply = APIchat(\"농심을 대표하는 라면의 이름?\")\n",
        "print(reply)\n",
        "#answer_voice(reply)"
      ],
      "metadata": {
        "colab": {
          "base_uri": "https://localhost:8080/"
        },
        "id": "q1WlDw6tS-8Z",
        "outputId": "e72177c0-5db2-4e31-9eb9-7dbf7b8f9e42"
      },
      "execution_count": 9,
      "outputs": [
        {
          "output_type": "stream",
          "name": "stdout",
          "text": [
            "None\n"
          ]
        }
      ]
    },
    {
      "cell_type": "code",
      "source": [],
      "metadata": {
        "id": "JfOQ0NzITAXB"
      },
      "execution_count": null,
      "outputs": []
    }
  ]
}